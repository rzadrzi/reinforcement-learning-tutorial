{
 "cells": [
  {
   "cell_type": "markdown",
   "metadata": {},
   "source": [
    "# Reinforcement Learning Introduction\n",
    "<hr>\n",
    "\n",
    "### Multi-arm bandit:\n",
    "•\tReal World -> every online Business -> Recommend System, A/B Test\n",
    "\n",
    "### Model:\n",
    "•\tReinforcement learning system model -> MDV (Markov Decision Process)\n",
    "\n",
    "### 3 Main approaches in RL:\n",
    "1.\tDynamic Programming : restrictive\n",
    "2.\tMonte Carlo\n",
    "3.\tTemporal Difference Learning (including Q-learning): least restrictive\n",
    "\n",
    "### Supervised Learning\n",
    "•\tSupervised Learning algorithms into RL<br>\n",
    "•\tDifferentiable models: Regression, Neural network<br>\n",
    "•\t`Neural network = Deep Reinforcement Learning (out of scope)`\n",
    "\n",
    "<hr>\n",
    "\n",
    "## Application: Stock Trading Bot"
   ]
  }
 ],
 "metadata": {
  "language_info": {
   "name": "python"
  },
  "orig_nbformat": 4
 },
 "nbformat": 4,
 "nbformat_minor": 2
}
